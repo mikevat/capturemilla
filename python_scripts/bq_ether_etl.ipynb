{
 "cells": [
  {
   "cell_type": "code",
   "execution_count": 1,
   "metadata": {},
   "outputs": [
    {
     "data": {
      "text/plain": [
       "'c:\\\\users\\\\vathi\\\\git\\\\capturemilla\\\\env\\\\scripts\\\\python.exe'"
      ]
     },
     "execution_count": 1,
     "metadata": {},
     "output_type": "execute_result"
    }
   ],
   "source": [
    "import sys\n",
    "sys.executable"
   ]
  },
  {
   "cell_type": "code",
   "execution_count": 2,
   "metadata": {
    "scrolled": true
   },
   "outputs": [
    {
     "name": "stdout",
     "output_type": "stream",
     "text": [
      "This query will process 0.0 Mbytes.\n",
      "(0.0, 2.038945198059082)\n",
      "(          n\n",
      "0  10725513, 3.8392348289489746)\n"
     ]
    }
   ],
   "source": [
    "import bq_time_check_run as btc\n",
    "QUERY = '''\n",
    "    SELECT count(*) as n FROM `bigquery-public-data.crypto_ethereum.blocks`\n",
    "    '''\n",
    "print(btc.check_usage(QUERY))\n",
    "\n",
    "print(btc.run_query(QUERY))"
   ]
  },
  {
   "cell_type": "code",
   "execution_count": 3,
   "metadata": {},
   "outputs": [],
   "source": [
    "bq_sql_scripts = [\n",
    "    '01.bq_cr_contracts.sql',\n",
    "    '02.bq_flag_category_0.sql',\n",
    "    '03.bq_flag_category_1.sql',\n",
    "    '04.bq_flag_category_2.sql',\n",
    "    '05.bq_flag_category_3.sql',\n",
    "    '06.bq_flag_category_4.sql',\n",
    "    '07.bq_flag_category_5.sql',\n",
    "    '08.bq_flag_category_6.sql',\n",
    "    '09.bq_flag_category_7.sql',\n",
    "    '10.bq_flag_category_8.sql',\n",
    "    '11.bq_flag_category_9.sql',\n",
    "    '12.bq_flag_category_10.sql',\n",
    "    '13.bq_flag_category_11.sql',\n",
    "    '14.bq_cr_transactions.sql',\n",
    "    '15.bq_cr_contracts_ftrans.sql',\n",
    "    '16.bq_cr_contracts_per_category.sql',\n",
    "    '17.bq_cr_traces_by_type_pd.sql',\n",
    "    '18.bq_cr_transactions_pd.sql',\n",
    "    '19.bq_cr_traces_of_cons.sql'\n",
    "]"
   ]
  },
  {
   "cell_type": "code",
   "execution_count": 4,
   "metadata": {
    "scrolled": false
   },
   "outputs": [
    {
     "name": "stdout",
     "output_type": "stream",
     "text": [
      "01.bq_cr_contracts.sql\n",
      "This query will process 451551.413978 Mbytes.\n",
      "02.bq_flag_category_0.sql\n",
      "This query will process 203775.001692 Mbytes.\n",
      "03.bq_flag_category_1.sql\n",
      "This query will process 203775.001692 Mbytes.\n",
      "04.bq_flag_category_2.sql\n",
      "This query will process 203775.001692 Mbytes.\n",
      "05.bq_flag_category_3.sql\n",
      "This query will process 203775.001692 Mbytes.\n",
      "06.bq_flag_category_4.sql\n",
      "This query will process 203775.001692 Mbytes.\n",
      "07.bq_flag_category_5.sql\n",
      "This query will process 203775.001692 Mbytes.\n",
      "08.bq_flag_category_6.sql\n",
      "This query will process 203775.001692 Mbytes.\n",
      "09.bq_flag_category_7.sql\n",
      "This query will process 203775.001692 Mbytes.\n",
      "10.bq_flag_category_8.sql\n",
      "This query will process 203775.001692 Mbytes.\n",
      "11.bq_flag_category_9.sql\n",
      "This query will process 203775.001692 Mbytes.\n",
      "12.bq_flag_category_10.sql\n",
      "This query will process 203775.001692 Mbytes.\n",
      "13.bq_flag_category_11.sql\n",
      "This query will process 203775.001692 Mbytes.\n",
      "14.bq_cr_transactions.sql\n",
      "This query will process 453720.884134 Mbytes.\n",
      "15.bq_cr_contracts_ftrans.sql\n",
      "This query will process 208191.662617 Mbytes.\n",
      "16.bq_cr_contracts_per_category.sql\n",
      "This query will process 20261.657776 Mbytes.\n",
      "17.bq_cr_traces_by_type_pd.sql\n",
      "This query will process 20503.832858 Mbytes.\n",
      "18.bq_cr_transactions_pd.sql\n",
      "This query will process 23526.048576 Mbytes.\n",
      "19.bq_cr_traces_of_cons.sql\n",
      "This query will process 221413.399542 Mbytes.\n"
     ]
    }
   ],
   "source": [
    "# Run all sql script files and keep stats\n",
    "import bq_time_check_run as btc\n",
    "\n",
    "just_check_usage = True\n",
    "sql_stats = []\n",
    "\n",
    "for sql_script_file in bq_sql_scripts:\n",
    "    \n",
    "    print(sql_script_file)\n",
    "    \n",
    "    stats = [sql_script_file]\n",
    "    path = '../bq_sql_scripts/' + sql_script_file\n",
    "    \n",
    "    with open(path, 'r') as file:\n",
    "        sql_script = file.read()\n",
    "    \n",
    "    mbs, time_check = btc.check_usage(sql_script)\n",
    "    stats.append(mbs)\n",
    "    stats.append(time_check)\n",
    "    \n",
    "    if not(just_check_usage):\n",
    "        q_result, time_run = run_query(sql_script)\n",
    "        stats.append(q_result)\n",
    "        stats.append(time_run)\n",
    "    \n",
    "    sql_stats.append(stats)"
   ]
  },
  {
   "cell_type": "code",
   "execution_count": null,
   "metadata": {
    "scrolled": false
   },
   "outputs": [],
   "source": [
    "import pandas as pd\n",
    "\n",
    "foo = pd.DataFrame(sql_stats,columns=['sql_script','mbs_read','time_for_check','result','time_to_exec'])\n",
    "print(foo)\n",
    "print(foo['mbs_read'].sum())\n",
    "print(foo['time_for_check'].sum())\n",
    "print(foo['time_to_exec'].sum())\n",
    "# print(foo[4].sum())\n"
   ]
  }
 ],
 "metadata": {
  "kernelspec": {
   "display_name": "Python 3",
   "language": "python",
   "name": "python3"
  },
  "language_info": {
   "codemirror_mode": {
    "name": "ipython",
    "version": 3
   },
   "file_extension": ".py",
   "mimetype": "text/x-python",
   "name": "python",
   "nbconvert_exporter": "python",
   "pygments_lexer": "ipython3",
   "version": "3.8.5"
  }
 },
 "nbformat": 4,
 "nbformat_minor": 2
}
