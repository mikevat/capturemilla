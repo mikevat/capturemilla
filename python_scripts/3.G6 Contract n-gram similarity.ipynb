{
 "cells": [
  {
   "cell_type": "code",
   "execution_count": 1,
   "metadata": {},
   "outputs": [],
   "source": [
    "import time"
   ]
  },
  {
   "cell_type": "raw",
   "metadata": {
    "scrolled": true
   },
   "source": [
    "# Import opcodes from bigquery\n",
    "\n",
    "import bq_time_check_run as bss\n",
    "\n",
    "opcodes_sql = 'SELECT opcode_str_wo_params FROM `capture-milla-259710.capture_milla.opcode_descriptives`'\n",
    "\n",
    "usage_mbs, checktime = bss.check_usage(opcodes_sql)\n",
    "\n",
    "opcodes_all, runtime = bss.run_query(opcodes_sql)\n",
    "\n",
    "opcodes_all['opcode_str_wo_params'] = opcodes_all['opcode_str_wo_params'].str.replace(',',' ')\n",
    "\n",
    "opcodes = opcodes_all.head(50)"
   ]
  },
  {
   "cell_type": "raw",
   "metadata": {},
   "source": [
    "# Export opcodes to csv\n",
    "\n",
    "opcodes_all.to_csv('opcodes_all.csv', sep=',', encoding='utf-8')"
   ]
  },
  {
   "cell_type": "code",
   "execution_count": 146,
   "metadata": {},
   "outputs": [
    {
     "data": {
      "text/html": [
       "<div>\n",
       "<style scoped>\n",
       "    .dataframe tbody tr th:only-of-type {\n",
       "        vertical-align: middle;\n",
       "    }\n",
       "\n",
       "    .dataframe tbody tr th {\n",
       "        vertical-align: top;\n",
       "    }\n",
       "\n",
       "    .dataframe thead th {\n",
       "        text-align: right;\n",
       "    }\n",
       "</style>\n",
       "<table border=\"1\" class=\"dataframe\">\n",
       "  <thead>\n",
       "    <tr style=\"text-align: right;\">\n",
       "      <th></th>\n",
       "      <th>opcode_str_wo_params</th>\n",
       "    </tr>\n",
       "  </thead>\n",
       "  <tbody>\n",
       "    <tr>\n",
       "      <td>0</td>\n",
       "      <td>PUSH1 PUSH1 MSTORE PUSH1 CALLDATASIZE LT PUSH2...</td>\n",
       "    </tr>\n",
       "    <tr>\n",
       "      <td>1</td>\n",
       "      <td>PUSH1 PUSH1 MSTORE CALLDATASIZE ISZERO PUSH2 J...</td>\n",
       "    </tr>\n",
       "    <tr>\n",
       "      <td>2</td>\n",
       "      <td>PUSH1 PUSH1 MSTORE PUSH4 PUSH1 PUSH1 EXP PUSH1...</td>\n",
       "    </tr>\n",
       "    <tr>\n",
       "      <td>3</td>\n",
       "      <td>PUSH1 PUSH1 MSTORE PUSH1 CALLDATASIZE LT PUSH2...</td>\n",
       "    </tr>\n",
       "    <tr>\n",
       "      <td>4</td>\n",
       "      <td>PUSH1 PUSH1 MSTORE PUSH1 CALLDATASIZE LT PUSH2...</td>\n",
       "    </tr>\n",
       "    <tr>\n",
       "      <td>...</td>\n",
       "      <td>...</td>\n",
       "    </tr>\n",
       "    <tr>\n",
       "      <td>4995</td>\n",
       "      <td>PUSH1 PUSH1 MSTORE PUSH1 CALLDATASIZE LT PUSH2...</td>\n",
       "    </tr>\n",
       "    <tr>\n",
       "      <td>4996</td>\n",
       "      <td>PUSH1 PUSH1 MSTORE PUSH1 CALLDATASIZE LT PUSH2...</td>\n",
       "    </tr>\n",
       "    <tr>\n",
       "      <td>4997</td>\n",
       "      <td>PUSH1 PUSH1 MSTORE CALLDATASIZE ISZERO PUSH2 J...</td>\n",
       "    </tr>\n",
       "    <tr>\n",
       "      <td>4998</td>\n",
       "      <td>PUSH1 PUSH1 MSTORE PUSH1 CALLDATASIZE LT PUSH2...</td>\n",
       "    </tr>\n",
       "    <tr>\n",
       "      <td>4999</td>\n",
       "      <td>PUSH1 PUSH1 MSTORE PUSH1 CALLDATASIZE LT PUSH2...</td>\n",
       "    </tr>\n",
       "  </tbody>\n",
       "</table>\n",
       "<p>5000 rows × 1 columns</p>\n",
       "</div>"
      ],
      "text/plain": [
       "                                   opcode_str_wo_params\n",
       "0     PUSH1 PUSH1 MSTORE PUSH1 CALLDATASIZE LT PUSH2...\n",
       "1     PUSH1 PUSH1 MSTORE CALLDATASIZE ISZERO PUSH2 J...\n",
       "2     PUSH1 PUSH1 MSTORE PUSH4 PUSH1 PUSH1 EXP PUSH1...\n",
       "3     PUSH1 PUSH1 MSTORE PUSH1 CALLDATASIZE LT PUSH2...\n",
       "4     PUSH1 PUSH1 MSTORE PUSH1 CALLDATASIZE LT PUSH2...\n",
       "...                                                 ...\n",
       "4995  PUSH1 PUSH1 MSTORE PUSH1 CALLDATASIZE LT PUSH2...\n",
       "4996  PUSH1 PUSH1 MSTORE PUSH1 CALLDATASIZE LT PUSH2...\n",
       "4997  PUSH1 PUSH1 MSTORE CALLDATASIZE ISZERO PUSH2 J...\n",
       "4998  PUSH1 PUSH1 MSTORE PUSH1 CALLDATASIZE LT PUSH2...\n",
       "4999  PUSH1 PUSH1 MSTORE PUSH1 CALLDATASIZE LT PUSH2...\n",
       "\n",
       "[5000 rows x 1 columns]"
      ]
     },
     "execution_count": 146,
     "metadata": {},
     "output_type": "execute_result"
    }
   ],
   "source": [
    "# -Optional- if data in .csv have already been downloaded: import from .csv\n",
    "\n",
    "import pandas as pd\n",
    "\n",
    "# opcodes = pd.read_csv('opcodes50.csv', index_col=0, header=0)\n",
    "# opcodes = pd.read_csv('opcodes_all.csv', index_col=0, header=0, nrows=5000)\n",
    "opcodes"
   ]
  },
  {
   "cell_type": "code",
   "execution_count": 21,
   "metadata": {
    "scrolled": true
   },
   "outputs": [
    {
     "data": {
      "image/png": "[encoded data removed]",
      "text/plain": [
       "<Figure size 432x288 with 1 Axes>"
      ]
     },
     "metadata": {
      "needs_background": "light"
     },
     "output_type": "display_data"
    }
   ],
   "source": [
    "# Produce some contracts descriptives\n",
    "# -character length\n",
    "# -word count\n",
    "\n",
    "def word_count(text):\n",
    "    return len(text.split())\n",
    "\n",
    "opcodes['code_LEN'] = opcodes.opcode_str_wo_params.apply(len)\n",
    "opcodes['code_wc'] = opcodes.opcode_str_wo_params.apply(word_count)\n",
    "\n",
    "import matplotlib.pyplot as plt\n",
    "plt.hist(opcodes.code_LEN.values)\n",
    "plt.xlabel('Number of characters')\n",
    "plt.ylabel('Number of contract codes')\n",
    "plt.show()"
   ]
  },
  {
   "cell_type": "code",
   "execution_count": 147,
   "metadata": {
    "scrolled": false
   },
   "outputs": [
    {
     "name": "stdout",
     "output_type": "stream",
     "text": [
      "Wall time: 32.1 s\n",
      "(5000, 135)\n"
     ]
    }
   ],
   "source": [
    "# Tokenize and Vectorize the opcode tokens\n",
    "\n",
    "from sklearn.feature_extraction.text import CountVectorizer\n",
    "from nltk.tokenize.regexp import regexp_tokenize\n",
    "import time\n",
    "\n",
    "def renltk_tokenize(text):\n",
    "    return regexp_tokenize(text,\n",
    "                           pattern = '\\s',\n",
    "                           gaps = True)\n",
    "\n",
    "oplist = list(opcodes.opcode_str_wo_params.values)\n",
    "\n",
    "\n",
    "vect = CountVectorizer(max_features = None,\n",
    "                     tokenizer = renltk_tokenize,\n",
    "                     ngram_range = (1,1),\n",
    "                     lowercase = False)\n",
    "\n",
    "t1 = time.time()\n",
    "%time oplist_matrix = vect.fit_transform(oplist)\n",
    "t2 = time.time()\n",
    "\n",
    "print(oplist_matrix.shape)\n",
    "\n",
    "terms = vect.get_feature_names()"
   ]
  },
  {
   "cell_type": "markdown",
   "metadata": {},
   "source": [
    "Custom Clustering"
   ]
  },
  {
   "cell_type": "code",
   "execution_count": 166,
   "metadata": {},
   "outputs": [],
   "source": [
    "# create clustered dictionary or load it from .csv\n",
    "from sklearn.metrics.pairwise import cosine_similarity\n",
    "\n",
    "#set the first opcode to its own cluster and keep the cluster no. for the next cluster\n",
    "clustered = {0:0}\n",
    "cluster_i = 1\n",
    "\n",
    "#optionally load the clusters from saved .csv\n",
    "loaded_clustered = pd.read_csv('all_clusters.csv',index_col='opcode')\n",
    "clustered = loaded_clustered.to_dict()['cluster']\n",
    "cluster_i = loaded_clustered['cluster'].max() + 1"
   ]
  },
  {
   "cell_type": "code",
   "execution_count": 149,
   "metadata": {},
   "outputs": [
    {
     "name": "stdout",
     "output_type": "stream",
     "text": [
      "clustered 1 to new cluster 2\n",
      "clustered 2 to new cluster 3\n",
      "clustered 108 to new cluster 4\n",
      "clustered 143 to new cluster 5\n",
      "clustered 152 to new cluster 6\n",
      "clustered 288 to new cluster 7\n",
      "clustered 436 to new cluster 8\n",
      "clustered 526 to new cluster 9\n",
      "clustered 631 to new cluster 10\n",
      "clustered 683 to new cluster 11\n",
      "clustered 822 to new cluster 12\n",
      "clustered 879 to new cluster 13\n",
      "clustered 908 to new cluster 14\n",
      "clustered 1018 to new cluster 15\n",
      "clustered 1112 to new cluster 16\n",
      "clustered 1115 to new cluster 17\n",
      "clustered 1204 to new cluster 18\n",
      "clustered 1226 to new cluster 19\n",
      "clustered 1378 to new cluster 20\n",
      "clustered 1384 to new cluster 21\n",
      "clustered 1481 to new cluster 22\n",
      "clustered 1685 to new cluster 23\n",
      "clustered 1778 to new cluster 24\n",
      "clustered 1845 to new cluster 25\n",
      "clustered 1875 to new cluster 26\n",
      "clustered 1885 to new cluster 27\n",
      "clustered 1955 to new cluster 28\n",
      "clustered 1975 to new cluster 29\n",
      "clustered 2328 to new cluster 30\n",
      "clustered 2696 to new cluster 31\n",
      "clustered 2831 to new cluster 32\n",
      "clustered 2878 to new cluster 33\n",
      "clustered 2931 to new cluster 34\n",
      "clustered 3012 to new cluster 35\n",
      "clustered 3132 to new cluster 36\n",
      "clustered 3175 to new cluster 37\n",
      "clustered 3303 to new cluster 38\n",
      "clustered 3597 to new cluster 39\n",
      "clustered 3616 to new cluster 40\n",
      "clustered 4040 to new cluster 41\n",
      "clustered 4383 to new cluster 42\n",
      "clustered 4633 to new cluster 43\n",
      "clustered 4809 to new cluster 44\n",
      "clustered 4946 to new cluster 45\n",
      "Time to cluster: 362.1015717983246\n"
     ]
    }
   ],
   "source": [
    "#the clustering...\n",
    "\n",
    "i_was_clustered = False\n",
    "ts = time.time()\n",
    "\n",
    "for i in range(1,len(oplist)):\n",
    "    for j,j_cluster in clustered.items():\n",
    "        #print(i,j,j_cluster)\n",
    "        similarity = cosine_similarity(oplist_matrix[(i,j),:])[0,1]\n",
    "        #print(similarity)\n",
    "        if similarity >= 0.90:\n",
    "            clustered[i] = j_cluster\n",
    "            i_was_clustered = True\n",
    "            #print('clustered',i,'to',j_cluster)\n",
    "            break\n",
    "            \n",
    "    if (i_was_clustered == False):\n",
    "        clustered[i] = cluster_i\n",
    "        cluster_i = cluster_i + 1\n",
    "        print('clustered',i,'to new cluster',cluster_i)\n",
    "    else:\n",
    "        i_was_clustered = False\n",
    "        \n",
    "tc = time.time()\n",
    "time_to_cluster = tc - ts\n",
    "print('Time to cluster:',time_to_cluster)\n"
   ]
  },
  {
   "cell_type": "code",
   "execution_count": 158,
   "metadata": {},
   "outputs": [
    {
     "data": {
      "text/html": [
       "<div>\n",
       "<style scoped>\n",
       "    .dataframe tbody tr th:only-of-type {\n",
       "        vertical-align: middle;\n",
       "    }\n",
       "\n",
       "    .dataframe tbody tr th {\n",
       "        vertical-align: top;\n",
       "    }\n",
       "\n",
       "    .dataframe thead th {\n",
       "        text-align: right;\n",
       "    }\n",
       "</style>\n",
       "<table border=\"1\" class=\"dataframe\">\n",
       "  <thead>\n",
       "    <tr style=\"text-align: right;\">\n",
       "      <th></th>\n",
       "      <th>opcode</th>\n",
       "      <th>cluster</th>\n",
       "    </tr>\n",
       "  </thead>\n",
       "  <tbody>\n",
       "    <tr>\n",
       "      <td>count</td>\n",
       "      <td>5000.000000</td>\n",
       "      <td>5000.000000</td>\n",
       "    </tr>\n",
       "    <tr>\n",
       "      <td>mean</td>\n",
       "      <td>2499.500000</td>\n",
       "      <td>0.639800</td>\n",
       "    </tr>\n",
       "    <tr>\n",
       "      <td>std</td>\n",
       "      <td>1443.520003</td>\n",
       "      <td>2.668835</td>\n",
       "    </tr>\n",
       "    <tr>\n",
       "      <td>min</td>\n",
       "      <td>0.000000</td>\n",
       "      <td>0.000000</td>\n",
       "    </tr>\n",
       "    <tr>\n",
       "      <td>25%</td>\n",
       "      <td>1249.750000</td>\n",
       "      <td>0.000000</td>\n",
       "    </tr>\n",
       "    <tr>\n",
       "      <td>50%</td>\n",
       "      <td>2499.500000</td>\n",
       "      <td>0.000000</td>\n",
       "    </tr>\n",
       "    <tr>\n",
       "      <td>75%</td>\n",
       "      <td>3749.250000</td>\n",
       "      <td>1.000000</td>\n",
       "    </tr>\n",
       "    <tr>\n",
       "      <td>max</td>\n",
       "      <td>4999.000000</td>\n",
       "      <td>44.000000</td>\n",
       "    </tr>\n",
       "  </tbody>\n",
       "</table>\n",
       "</div>"
      ],
      "text/plain": [
       "            opcode      cluster\n",
       "count  5000.000000  5000.000000\n",
       "mean   2499.500000     0.639800\n",
       "std    1443.520003     2.668835\n",
       "min       0.000000     0.000000\n",
       "25%    1249.750000     0.000000\n",
       "50%    2499.500000     0.000000\n",
       "75%    3749.250000     1.000000\n",
       "max    4999.000000    44.000000"
      ]
     },
     "execution_count": 158,
     "metadata": {},
     "output_type": "execute_result"
    }
   ],
   "source": [
    "#save results\n",
    "\n",
    "all_clusters = pd.DataFrame.from_dict(clustered,orient='index',columns=['cluster'])\n",
    "all_clusters.index.names = ['opcode']\n",
    "all_clusters.to_csv('all_clusters.csv')\n",
    "all_clusters = all_clusters.reset_index()\n",
    "all_clusters.describe()"
   ]
  },
  {
   "cell_type": "code",
   "execution_count": 151,
   "metadata": {},
   "outputs": [
    {
     "data": {
      "text/html": [
       "<div>\n",
       "<style scoped>\n",
       "    .dataframe tbody tr th:only-of-type {\n",
       "        vertical-align: middle;\n",
       "    }\n",
       "\n",
       "    .dataframe tbody tr th {\n",
       "        vertical-align: top;\n",
       "    }\n",
       "\n",
       "    .dataframe thead th {\n",
       "        text-align: right;\n",
       "    }\n",
       "</style>\n",
       "<table border=\"1\" class=\"dataframe\">\n",
       "  <thead>\n",
       "    <tr style=\"text-align: right;\">\n",
       "      <th></th>\n",
       "      <th>opcode</th>\n",
       "      <th>cluster</th>\n",
       "    </tr>\n",
       "  </thead>\n",
       "  <tbody>\n",
       "    <tr>\n",
       "      <td>0</td>\n",
       "      <td>0</td>\n",
       "      <td>0</td>\n",
       "    </tr>\n",
       "    <tr>\n",
       "      <td>1</td>\n",
       "      <td>1</td>\n",
       "      <td>1</td>\n",
       "    </tr>\n",
       "    <tr>\n",
       "      <td>2</td>\n",
       "      <td>2</td>\n",
       "      <td>2</td>\n",
       "    </tr>\n",
       "    <tr>\n",
       "      <td>3</td>\n",
       "      <td>3</td>\n",
       "      <td>0</td>\n",
       "    </tr>\n",
       "    <tr>\n",
       "      <td>4</td>\n",
       "      <td>4</td>\n",
       "      <td>0</td>\n",
       "    </tr>\n",
       "    <tr>\n",
       "      <td>...</td>\n",
       "      <td>...</td>\n",
       "      <td>...</td>\n",
       "    </tr>\n",
       "    <tr>\n",
       "      <td>4995</td>\n",
       "      <td>4995</td>\n",
       "      <td>0</td>\n",
       "    </tr>\n",
       "    <tr>\n",
       "      <td>4996</td>\n",
       "      <td>4996</td>\n",
       "      <td>0</td>\n",
       "    </tr>\n",
       "    <tr>\n",
       "      <td>4997</td>\n",
       "      <td>4997</td>\n",
       "      <td>1</td>\n",
       "    </tr>\n",
       "    <tr>\n",
       "      <td>4998</td>\n",
       "      <td>4998</td>\n",
       "      <td>1</td>\n",
       "    </tr>\n",
       "    <tr>\n",
       "      <td>4999</td>\n",
       "      <td>4999</td>\n",
       "      <td>0</td>\n",
       "    </tr>\n",
       "  </tbody>\n",
       "</table>\n",
       "<p>5000 rows × 2 columns</p>\n",
       "</div>"
      ],
      "text/plain": [
       "      opcode  cluster\n",
       "0          0        0\n",
       "1          1        1\n",
       "2          2        2\n",
       "3          3        0\n",
       "4          4        0\n",
       "...      ...      ...\n",
       "4995    4995        0\n",
       "4996    4996        0\n",
       "4997    4997        1\n",
       "4998    4998        1\n",
       "4999    4999        0\n",
       "\n",
       "[5000 rows x 2 columns]"
      ]
     },
     "execution_count": 151,
     "metadata": {},
     "output_type": "execute_result"
    }
   ],
   "source": [
    "all_clusters"
   ]
  },
  {
   "cell_type": "code",
   "execution_count": 23,
   "metadata": {},
   "outputs": [
    {
     "name": "stdout",
     "output_type": "stream",
     "text": [
      "Wall time: 198 ms\n",
      "Cosine similarity shape:\n",
      "(500, 500)\n"
     ]
    }
   ],
   "source": [
    "# Create cosine similarity matrix\n",
    "\n",
    "from sklearn.metrics.pairwise import cosine_similarity\n",
    "\n",
    "%time dist = 1 - cosine_similarity(oplist_matrix)\n",
    "\n",
    "print('Cosine similarity shape:')\n",
    "print(dist.shape)"
   ]
  },
  {
   "cell_type": "code",
   "execution_count": 18,
   "metadata": {},
   "outputs": [
    {
     "name": "stdout",
     "output_type": "stream",
     "text": [
      "Wall time: 6min 57s\n",
      "1    2049\n",
      "4    2004\n",
      "0     610\n",
      "2     248\n",
      "3      89\n",
      "Name: cluster, dtype: int64\n",
      "cluster\n",
      "0    28711.591803\n",
      "1     4978.746218\n",
      "2    49911.814516\n",
      "3    81418.146067\n",
      "4    14131.873253\n",
      "Name: code_LEN, dtype: float64\n"
     ]
    }
   ],
   "source": [
    "# Cluster opcodes\n",
    "\n",
    "from sklearn.cluster import KMeans\n",
    "\n",
    "num_clusters = 5\n",
    "\n",
    "km = KMeans(n_clusters=num_clusters)\n",
    "\n",
    "%time km.fit(oplist_matrix)\n",
    "\n",
    "clusters = km.labels_.tolist()\n",
    "\n",
    "opcodes['cluster'] = clusters\n",
    "print(opcodes['cluster'].value_counts())\n",
    "\n",
    "grouped = opcodes['code_LEN'].groupby(opcodes['cluster'])\n",
    "print(grouped.mean())"
   ]
  },
  {
   "cell_type": "code",
   "execution_count": 19,
   "metadata": {},
   "outputs": [
    {
     "name": "stdout",
     "output_type": "stream",
     "text": [
      "Top opcodes per cluster:\n",
      "\n",
      "Cluster 0 commands: PUSH1, SWAP1, PUSH2, DUP1, POP, DUP2,\n",
      "\n",
      "Cluster 1 commands: PUSH1, SWAP1, DUP1, PUSH2, POP, JUMPDEST,\n",
      "\n",
      "Cluster 2 commands: PUSH1, SWAP1, POP, DUP1, PUSH2, ADD,\n",
      "\n",
      "Cluster 3 commands: PUSH1, PUSH2, SWAP1, ADD, DUP1, POP,\n",
      "\n",
      "Cluster 4 commands: PUSH1, SWAP1, DUP1, POP, PUSH2, DUP2,\n",
      "\n"
     ]
    }
   ],
   "source": [
    "# Get the top 6 n-grams that are closest to each cluster's centroid.\n",
    "\n",
    "print(\"Top opcodes per cluster:\")\n",
    "print()\n",
    "#sort cluster centers by proximity to centroid\n",
    "order_centroids = km.cluster_centers_.argsort()[:, ::-1] \n",
    "\n",
    "for i in range(num_clusters):\n",
    "    print(\"Cluster %d commands:\" % i, end='')\n",
    "    \n",
    "    for ind in order_centroids[i, :6]: #replace 6 with n words per cluster\n",
    "        print(' %s' % terms[ind], end=',')\n",
    "    print()\n",
    "    print()"
   ]
  }
 ],
 "metadata": {
  "kernelspec": {
   "display_name": "Python 3",
   "language": "python",
   "name": "python3"
  },
  "language_info": {
   "codemirror_mode": {
    "name": "ipython",
    "version": 3
   },
   "file_extension": ".py",
   "mimetype": "text/x-python",
   "name": "python",
   "nbconvert_exporter": "python",
   "pygments_lexer": "ipython3",
   "version": "3.8.5"
  }
 },
 "nbformat": 4,
 "nbformat_minor": 2
}
